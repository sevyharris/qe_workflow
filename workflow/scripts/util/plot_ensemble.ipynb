{
 "cells": [
  {
   "cell_type": "code",
   "execution_count": 1,
   "id": "43d21fbd",
   "metadata": {},
   "outputs": [],
   "source": [
    "import numpy as np\n",
    "import matplotlib.pyplot as plt\n",
    "\n",
    "import ase.io.espresso\n",
    "from ase.dft.bee import ensemble"
   ]
  },
  {
   "cell_type": "code",
   "execution_count": 2,
   "id": "15dd6541",
   "metadata": {},
   "outputs": [],
   "source": [
    "H_ensemble_pwo = '/work/westgroup/harris.se/espresso/qe_workflow/results/adsorbate/H/ensemble_60/espresso.pwo'"
   ]
  },
  {
   "cell_type": "code",
   "execution_count": 3,
   "id": "a2badf0e",
   "metadata": {},
   "outputs": [],
   "source": [
    "with open(H_ensemble_pwo, 'r') as f:\n",
    "    H = list(ase.io.espresso.read_espresso_out(f, index=slice(None)))"
   ]
  },
  {
   "cell_type": "code",
   "execution_count": 4,
   "id": "10ed462b",
   "metadata": {},
   "outputs": [
    {
     "data": {
      "text/plain": [
       "{'energy': -13.536405626899247,\n",
       " 'free_energy': -13.536405626899247,\n",
       " 'forces': array([[0., 0., 0.]]),\n",
       " 'stress': array([ 2.75447285e-06,  2.75447285e-06,  2.75447285e-06, -0.00000000e+00,\n",
       "        -0.00000000e+00, -0.00000000e+00])}"
      ]
     },
     "execution_count": 4,
     "metadata": {},
     "output_type": "execute_result"
    }
   ],
   "source": [
    "H[0].calc.results"
   ]
  },
  {
   "cell_type": "code",
   "execution_count": 9,
   "id": "33cf79be",
   "metadata": {},
   "outputs": [],
   "source": [
    "with open(H_ensemble_pwo, 'r') as f:\n",
    "    xc_start = 'BEEF-vdW xc energy contributions'\n",
    "    xc_contribs = []\n",
    "    with open(H_ensemble_pwo, 'r') as f:\n",
    "        xc_section = False\n",
    "        for line in f:\n",
    "            if xc_section:\n",
    "                if line.strip() == '':\n",
    "                    break\n",
    "                xc_contribs.append(float(line.split()[2]))\n",
    "            if xc_start in line:\n",
    "                xc_section = True\n",
    "    xc_contribs = np.array(xc_contribs)"
   ]
  },
  {
   "cell_type": "code",
   "execution_count": 11,
   "id": "0704f84b",
   "metadata": {},
   "outputs": [],
   "source": [
    "ase_energies = ensemble(H[0].calc.results['energy'], xc_contribs, 'BEEF-vdW')"
   ]
  },
  {
   "cell_type": "code",
   "execution_count": 19,
   "id": "26bc25da",
   "metadata": {},
   "outputs": [
    {
     "data": {
      "text/plain": [
       "<matplotlib.lines.Line2D at 0x2b1a1ea46ed0>"
      ]
     },
     "execution_count": 19,
     "metadata": {},
     "output_type": "execute_result"
    },
    {
     "data": {
      "image/png": "[encoded data removed]",
      "text/plain": [
       "<Figure size 432x288 with 1 Axes>"
      ]
     },
     "metadata": {
      "needs_background": "light"
     },
     "output_type": "display_data"
    }
   ],
   "source": [
    "# Plot a histogram\n",
    "results = plt.hist(ase_energies, bins=50)\n",
    "plt.title('Ensemble Energies')\n",
    "plt.xlabel('H energy (eV)')\n",
    "plt.ylabel('Count')\n",
    "plt.axvline(H[0].calc.results['energy'], color='black')"
   ]
  },
  {
   "cell_type": "code",
   "execution_count": 26,
   "id": "6e8b81e8",
   "metadata": {},
   "outputs": [
    {
     "data": {
      "text/plain": [
       "-13.535180412729764"
      ]
     },
     "execution_count": 26,
     "metadata": {},
     "output_type": "execute_result"
    }
   ],
   "source": [
    "np.mean(ase_energies)"
   ]
  },
  {
   "cell_type": "code",
   "execution_count": 27,
   "id": "8e089697",
   "metadata": {},
   "outputs": [
    {
     "data": {
      "text/plain": [
       "0.031026516103812737"
      ]
     },
     "execution_count": 27,
     "metadata": {},
     "output_type": "execute_result"
    }
   ],
   "source": [
    "np.std(ase_energies)"
   ]
  },
  {
   "cell_type": "code",
   "execution_count": null,
   "id": "33c4a349",
   "metadata": {},
   "outputs": [],
   "source": []
  },
  {
   "cell_type": "code",
   "execution_count": null,
   "id": "34dad60a",
   "metadata": {},
   "outputs": [],
   "source": []
  },
  {
   "cell_type": "code",
   "execution_count": null,
   "id": "6b82683a",
   "metadata": {},
   "outputs": [],
   "source": [
    "# Read in the 2000 entries"
   ]
  },
  {
   "cell_type": "code",
   "execution_count": 21,
   "id": "1d56d219",
   "metadata": {},
   "outputs": [],
   "source": [
    "BEEF_start = 'BEEFens 2000 ensemble energies'\n",
    "energies = []\n",
    "with open(H_ensemble_pwo, 'r') as f:\n",
    "    ensemble_section = False\n",
    "    for line in f:\n",
    "        if ensemble_section:\n",
    "            if line.strip() == '':\n",
    "                break\n",
    "            energies.append(float(line))\n",
    "        if BEEF_start in line:\n",
    "            ensemble_section = True\n",
    "energies = np.array(energies) # * 13.60569301  # convert Rydberg to eV... interesting, you get similar results if you assume the energies are in eV\n",
    "# print(xc_energies[-10:])"
   ]
  },
  {
   "cell_type": "code",
   "execution_count": 22,
   "id": "13313830",
   "metadata": {},
   "outputs": [],
   "source": [
    "# !    total energy              =      -0.99490755 Ry\n",
    "#      estimated scf accuracy    <       0.00000021 Ry\n",
    "#      smearing contrib. (-TS)   =      -0.03281829 Ry\n",
    "#      internal energy E=F+TS    =      -0.96208926 Ry\n",
    "\n",
    "#      The total energy is F=E-TS. E is the sum of the following terms:\n",
    "#      one-electron contribution =      -0.84511331 Ry\n",
    "#      hartree contribution      =       0.51510551 Ry\n",
    "#      xc contribution           =      -0.55700981 Ry\n",
    "#      ewald contribution        =      -0.07507166 Ry"
   ]
  },
  {
   "cell_type": "code",
   "execution_count": 24,
   "id": "1267e2a4",
   "metadata": {},
   "outputs": [],
   "source": [
    "# energies_Ry = one_electron_contribution + hartree_contribution + ewald_contribution + xc_energies\n",
    "# energies = energies_Ry * 13.60569301  # convert Rydberg to eV\n",
    "# print(energies_Ry[0:19])\n",
    "energies += H[0].calc.results['energy']"
   ]
  },
  {
   "cell_type": "code",
   "execution_count": 25,
   "id": "a19512bc",
   "metadata": {},
   "outputs": [
    {
     "data": {
      "text/plain": [
       "<matplotlib.lines.Line2D at 0x2b1a1eb45610>"
      ]
     },
     "execution_count": 25,
     "metadata": {},
     "output_type": "execute_result"
    },
    {
     "data": {
      "image/png": "[encoded data removed]",
      "text/plain": [
       "<Figure size 432x288 with 1 Axes>"
      ]
     },
     "metadata": {
      "needs_background": "light"
     },
     "output_type": "display_data"
    }
   ],
   "source": [
    "# Plot a histogram\n",
    "results = plt.hist(energies, bins=50)\n",
    "plt.title('Ensemble Energies')\n",
    "plt.xlabel('H energy (eV)')\n",
    "plt.ylabel('Count')\n",
    "plt.axvline(H[0].calc.results['energy'], color='black')"
   ]
  },
  {
   "cell_type": "code",
   "execution_count": 28,
   "id": "bb9b6a8c",
   "metadata": {},
   "outputs": [
    {
     "data": {
      "text/plain": [
       "-13.537324035632704"
      ]
     },
     "execution_count": 28,
     "metadata": {},
     "output_type": "execute_result"
    }
   ],
   "source": [
    "np.mean(energies)"
   ]
  },
  {
   "cell_type": "code",
   "execution_count": 30,
   "id": "2a96f669",
   "metadata": {},
   "outputs": [
    {
     "data": {
      "text/plain": [
       "0.03196751295598592"
      ]
     },
     "execution_count": 30,
     "metadata": {},
     "output_type": "execute_result"
    }
   ],
   "source": [
    "np.std(energies)"
   ]
  },
  {
   "cell_type": "code",
   "execution_count": null,
   "id": "62e99046",
   "metadata": {},
   "outputs": [],
   "source": []
  }
 ],
 "metadata": {
  "kernelspec": {
   "display_name": "Python 3 (ipykernel)",
   "language": "python",
   "name": "python3"
  },
  "language_info": {
   "codemirror_mode": {
    "name": "ipython",
    "version": 3
   },
   "file_extension": ".py",
   "mimetype": "text/x-python",
   "name": "python",
   "nbconvert_exporter": "python",
   "pygments_lexer": "ipython3",
   "version": "3.7.12"
  }
 },
 "nbformat": 4,
 "nbformat_minor": 5
}
