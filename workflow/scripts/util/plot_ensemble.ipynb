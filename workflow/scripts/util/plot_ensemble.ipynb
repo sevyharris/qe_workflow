{
 "cells": [
  {
   "cell_type": "code",
   "execution_count": 1,
   "id": "43d21fbd",
   "metadata": {},
   "outputs": [],
   "source": [
    "import numpy as np\n",
    "import matplotlib.pyplot as plt\n",
    "\n",
    "import ase.io.espresso"
   ]
  },
  {
   "cell_type": "code",
   "execution_count": 2,
   "id": "15dd6541",
   "metadata": {},
   "outputs": [],
   "source": [
    "H_ensemble_pwo = '/work/westgroup/harris.se/espresso/qe_workflow/results/adsorbate/H/ensemble_60/espresso.pwo'"
   ]
  },
  {
   "cell_type": "code",
   "execution_count": 3,
   "id": "a2badf0e",
   "metadata": {},
   "outputs": [],
   "source": [
    "with open(H_ensemble_pwo, 'r') as f:\n",
    "    H = list(ase.io.espresso.read_espresso_out(f, index=slice(None)))"
   ]
  },
  {
   "cell_type": "code",
   "execution_count": 4,
   "id": "10ed462b",
   "metadata": {},
   "outputs": [
    {
     "data": {
      "text/plain": [
       "{'energy': -13.536405626899247,\n",
       " 'free_energy': -13.536405626899247,\n",
       " 'forces': array([[0., 0., 0.]]),\n",
       " 'stress': array([ 2.75447285e-06,  2.75447285e-06,  2.75447285e-06, -0.00000000e+00,\n",
       "        -0.00000000e+00, -0.00000000e+00])}"
      ]
     },
     "execution_count": 4,
     "metadata": {},
     "output_type": "execute_result"
    }
   ],
   "source": [
    "H[0].calc.results"
   ]
  },
  {
   "cell_type": "code",
   "execution_count": 5,
   "id": "6b82683a",
   "metadata": {},
   "outputs": [],
   "source": [
    "# Read in the 2000 entries"
   ]
  },
  {
   "cell_type": "code",
   "execution_count": 21,
   "id": "1d56d219",
   "metadata": {},
   "outputs": [],
   "source": [
    "BEEF_start = 'BEEFens 2000 ensemble energies'\n",
    "energies = []\n",
    "with open(H_ensemble_pwo, 'r') as f:\n",
    "    ensemble_section = False\n",
    "    for line in f:\n",
    "        if ensemble_section:\n",
    "            if line.strip() == '':\n",
    "                break\n",
    "            energies.append(float(line))\n",
    "        if BEEF_start in line:\n",
    "            ensemble_section = True\n",
    "energies = np.array(xc_energies) * 13.60569301  # convert Rydberg to eV\n",
    "# print(xc_energies[-10:])"
   ]
  },
  {
   "cell_type": "code",
   "execution_count": 7,
   "id": "5ad8f5ac",
   "metadata": {},
   "outputs": [],
   "source": [
    "# !    total energy              =      -0.99490755 Ry\n",
    "#      estimated scf accuracy    <       0.00000021 Ry\n",
    "#      smearing contrib. (-TS)   =      -0.03281829 Ry\n",
    "#      internal energy E=F+TS    =      -0.96208926 Ry\n",
    "\n",
    "#      The total energy is F=E-TS. E is the sum of the following terms:\n",
    "#      one-electron contribution =      -0.84511331 Ry\n",
    "#      hartree contribution      =       0.51510551 Ry\n",
    "#      xc contribution           =      -0.55700981 Ry\n",
    "#      ewald contribution        =      -0.07507166 Ry"
   ]
  },
  {
   "cell_type": "code",
   "execution_count": 8,
   "id": "61d30a4d",
   "metadata": {},
   "outputs": [],
   "source": [
    "one_electron_contribution = -0.84511331\n",
    "hartree_contribution = 0.51510551\n",
    "ewald_contribution = -0.07507166"
   ]
  },
  {
   "cell_type": "code",
   "execution_count": 22,
   "id": "e4eed3c5",
   "metadata": {},
   "outputs": [],
   "source": [
    "# energies_Ry = one_electron_contribution + hartree_contribution + ewald_contribution + xc_energies\n",
    "# energies = energies_Ry * 13.60569301  # convert Rydberg to eV\n",
    "# print(energies_Ry[0:19])\n",
    "energies += H[0].calc.results['energy']"
   ]
  },
  {
   "cell_type": "code",
   "execution_count": null,
   "id": "81ae440f",
   "metadata": {},
   "outputs": [],
   "source": []
  },
  {
   "cell_type": "code",
   "execution_count": 24,
   "id": "c50b6a1c",
   "metadata": {
    "scrolled": true
   },
   "outputs": [
    {
     "data": {
      "text/plain": [
       "<matplotlib.lines.Line2D at 0x2b80051514d0>"
      ]
     },
     "execution_count": 24,
     "metadata": {},
     "output_type": "execute_result"
    },
    {
     "data": {
      "image/png": "[encoded data removed]",
      "text/plain": [
       "<Figure size 432x288 with 1 Axes>"
      ]
     },
     "metadata": {
      "needs_background": "light"
     },
     "output_type": "display_data"
    }
   ],
   "source": [
    "results = plt.hist(energies, bins=50)\n",
    "plt.title('Ensemble Enegies')\n",
    "plt.xlabel('H energy (eV)')\n",
    "plt.ylabel('Count')\n",
    "plt.axvline(H[0].calc.results['energy'], color='black')\n",
    "# ax = plt.gca()\n",
    "# ax.vlines(H[0].calc.results['energy'], 0, 100, color='black')"
   ]
  },
  {
   "cell_type": "code",
   "execution_count": 11,
   "id": "057e4c3a",
   "metadata": {},
   "outputs": [
    {
     "name": "stdout",
     "output_type": "stream",
     "text": [
      "[-6.1440412  -5.39733924 -5.57730461 ... -5.88002216 -5.23156495\n",
      " -5.06812243]\n"
     ]
    }
   ],
   "source": [
    "len(energies)\n",
    "print(energies)"
   ]
  },
  {
   "cell_type": "code",
   "execution_count": 12,
   "id": "db154e30",
   "metadata": {},
   "outputs": [
    {
     "data": {
      "text/plain": [
       "{}"
      ]
     },
     "execution_count": 12,
     "metadata": {},
     "output_type": "execute_result"
    }
   ],
   "source": [
    "H[0].calc.parameters"
   ]
  },
  {
   "cell_type": "code",
   "execution_count": 25,
   "id": "2ff7ce5d",
   "metadata": {},
   "outputs": [],
   "source": [
    "from ase.dft.bee import ensemble"
   ]
  },
  {
   "cell_type": "code",
   "execution_count": 27,
   "id": "8ae7d1d3",
   "metadata": {},
   "outputs": [],
   "source": [
    "contributions = np.array([\n",
    "    -0.40161206599500876,\n",
    "    0.21375060129683776,   \n",
    "    -2.7295278570901249E-002,\n",
    "    -6.0405843446209917E-002,\n",
    "     6.864675836E-02,\n",
    "    -3.978046995E-02,\n",
    "    6.525698694E-03,\n",
    "    1.673156217E-02,\n",
    "    -2.388348139E-02,\n",
    "    1.520142384E-02,\n",
    "    2.450998535E-03,\n",
    "    -1.759854152E-02,\n",
    "    2.169708039E-02,\n",
    "    -1.294874136E-02,\n",
    "    -3.560810652E-03,\n",
    "    1.576138829E-02,\n",
    "    -1.315213926E-02,\n",
    "    7.188680951E-04,\n",
    "    8.211081252E-03,\n",
    "    -9.428599634E-03,\n",
    "    4.563252102E-03,\n",
    "    3.249756548E-03,\n",
    "    -9.133027361E-03,\n",
    "    1.029562245E-02,\n",
    "    -5.836261266E-03,\n",
    "    -1.962235378E-03,\n",
    "    7.904236253E-03,\n",
    "    -9.010967448E-03,\n",
    "    4.993437698E-03,\n",
    "    1.348489526E-03,\n",
    "    -8.008426204E-02,\n",
    "    -2.8175979881651436E-002])\n"
   ]
  },
  {
   "cell_type": "code",
   "execution_count": 32,
   "id": "5908216f",
   "metadata": {},
   "outputs": [],
   "source": [
    "ase_energies = ensemble(H[0].calc.results['energy'], contributions, 'BEEF-vdW')"
   ]
  },
  {
   "cell_type": "code",
   "execution_count": 34,
   "id": "e82da794",
   "metadata": {
    "scrolled": true
   },
   "outputs": [
    {
     "data": {
      "text/plain": [
       "<matplotlib.lines.Line2D at 0x2b8005275810>"
      ]
     },
     "execution_count": 34,
     "metadata": {},
     "output_type": "execute_result"
    },
    {
     "data": {
      "image/png": "[encoded data removed]",
      "text/plain": [
       "<Figure size 432x288 with 1 Axes>"
      ]
     },
     "metadata": {
      "needs_background": "light"
     },
     "output_type": "display_data"
    }
   ],
   "source": [
    "# I feel a lot more confident about this one:\n",
    "\n",
    "results = plt.hist(ase_energies, bins=50)\n",
    "plt.title('Ensemble Enegies')\n",
    "plt.xlabel('H energy (eV)')\n",
    "plt.ylabel('Count')\n",
    "plt.axvline(H[0].calc.results['energy'], color='black')\n",
    "# ax = plt.gca()\n",
    "# ax.vlines(H[0].calc.results['energy'], 0, 100, color='black')"
   ]
  },
  {
   "cell_type": "code",
   "execution_count": null,
   "id": "56baa2f7",
   "metadata": {},
   "outputs": [],
   "source": []
  }
 ],
 "metadata": {
  "kernelspec": {
   "display_name": "Python 3 (ipykernel)",
   "language": "python",
   "name": "python3"
  },
  "language_info": {
   "codemirror_mode": {
    "name": "ipython",
    "version": 3
   },
   "file_extension": ".py",
   "mimetype": "text/x-python",
   "name": "python",
   "nbconvert_exporter": "python",
   "pygments_lexer": "ipython3",
   "version": "3.7.12"
  }
 },
 "nbformat": 4,
 "nbformat_minor": 5
}
